{
 "cells": [
  {
   "cell_type": "markdown",
   "metadata": {},
   "source": [
    "## TPC3: Adivinha o número!?\n",
    "\n",
    "Desenvolve em Python o código necessário para o jogo do Adivinha o número: \n",
    "* O jogo deverá ter dois modos: o computador tenta acertar no número que o jogador pensou ou, o jogador tenta acertar no número que o computador pensou; \n",
    "* No fim, o programa deverá indicar quantas tentativas foram realizadas para chegar ao resultado;\n",
    "* O Jogo: \n",
    "    - o utilizador pensa num número entre 0 e 100;\n",
    "    - o computador tenta adivinhar indicando um número do intervalo;\n",
    "    - o utilizador indica se o número em que pensou é **maior**, **menor**, ou se o computador **acertou**;\n",
    "    - ao terminar, o programa imprime o número de tentativas que o computador teve de fazer até chegar ao número.\n",
    "\n",
    "Que conclusão podes tirar sobre o número de tentativas necessárias para um número entre 0 e 100? E se fosse entre 0 e 1000?\n",
    "\n",
    "Resposta: Concluo que, se o número estivesse entre 0 e 1000, seriam precisas mais tentativas até acertar no número."
   ]
  },
  {
   "cell_type": "code",
   "execution_count": 2,
   "metadata": {},
   "outputs": [
    {
     "name": "stdout",
     "output_type": "stream",
     "text": [
      "Bem vindo ao jogo Adivinha o número. Para iniciar escolha o modo de jogo:\n",
      "No modo 1, o jogador tenta acertar no número que o computador pensou. No modo 2, o computador tenta acertar no número que o jogador pensou.\n"
     ]
    }
   ],
   "source": [
    "print(\"Bem vindo ao jogo Adivinha o número. Para iniciar escolha o modo de jogo:\")\n",
    "print(\"No modo 1, o jogador tenta acertar no número que o computador pensou. No modo 2, o computador tenta acertar no número que o jogador pensou.\")\n",
    "modo = input(\"Escreva 1 ou 2 de acorodo com o modo de jogo que quer.\")   \n",
    "tentativa = 0  \n",
    "import random\n",
    "if modo == \"1\":\n",
    "    número_computador = random.randrange (0,100)  \n",
    "    n = input(\"Escreva um número entre 0 e 100\")\n",
    "    while n != número_computador: \n",
    "        if número_computador > int(n):\n",
    "           print(\"É maior que \" + str(n) + \".\")\n",
    "        else:\n",
    "           print(\"É menor que \" + str(n) + \".\")\n",
    "        n = int(input(\"Tente outra vez.\"))\n",
    "        tentativa = tentativa + 1\n",
    "    print(\"Acertou! Fez \" + str(tentativa) + \" tentativas.\")\n",
    "if modo == \"2\":\n",
    "    print(\"Pense num número entre 0 e 100.\")\n",
    "    min = 0\n",
    "    max = 100\n",
    "    ajuda = \"\"\n",
    "    while ajuda != \"acertou\":\n",
    "        n = (random.randrange (min, max))\n",
    "        print(\"O número é \" + str(n) + \"?\")\n",
    "        ajuda = input(\"O seu número é maior, menor ou acertou?\")\n",
    "        if ajuda == \"maior\":\n",
    "            min = n + 1\n",
    "        elif ajuda == \"menor\":\n",
    "            max = n \n",
    "        tentativa = tentativa + 1\n",
    "    print(\"O computador acertou no seu número! Fez \" + str(tentativa) + \" tentativas\")"
   ]
  }
 ],
 "metadata": {
  "kernelspec": {
   "display_name": "Python 3",
   "language": "python",
   "name": "python3"
  },
  "language_info": {
   "codemirror_mode": {
    "name": "ipython",
    "version": 3
   },
   "file_extension": ".py",
   "mimetype": "text/x-python",
   "name": "python",
   "nbconvert_exporter": "python",
   "pygments_lexer": "ipython3",
   "version": "3.11.5"
  },
  "orig_nbformat": 4
 },
 "nbformat": 4,
 "nbformat_minor": 2
}
